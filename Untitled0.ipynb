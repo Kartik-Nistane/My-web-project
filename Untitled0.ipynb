{
  "nbformat": 4,
  "nbformat_minor": 0,
  "metadata": {
    "colab": {
      "provenance": [],
      "authorship_tag": "ABX9TyP320PDQgFIHukbDofgJW3h",
      "include_colab_link": true
    },
    "kernelspec": {
      "name": "python3",
      "display_name": "Python 3"
    },
    "language_info": {
      "name": "python"
    }
  },
  "cells": [
    {
      "cell_type": "markdown",
      "metadata": {
        "id": "view-in-github",
        "colab_type": "text"
      },
      "source": [
        "<a href=\"https://colab.research.google.com/github/Kartik-Nistane/My-web-project/blob/main/Untitled0.ipynb\" target=\"_parent\"><img src=\"https://colab.research.google.com/assets/colab-badge.svg\" alt=\"Open In Colab\"/></a>"
      ]
    },
    {
      "cell_type": "code",
      "source": [
        "# Import necessary libraries\n",
        "import pandas as pd\n",
        "import numpy as np\n",
        "import seaborn as sns\n",
        "import matplotlib.pyplot as plt\n",
        "from sklearn.datasets import load_iris\n",
        "\n",
        "# Load the Iris dataset\n",
        "iris = load_iris()\n",
        "data = pd.DataFrame(data=iris.data, columns=iris.feature_names)\n",
        "data['species'] = pd.Categorical.from_codes(iris.target, iris.target_names)\n",
        "\n",
        "# Data Preprocessing\n",
        "# Check for missing values\n",
        "print(\"Missing values in dataset:\")\n",
        "print(data.isnull().sum())\n",
        "\n",
        "# Descriptive Statistics\n",
        "print(\"\\nDescriptive Statistics:\")\n",
        "print(data.describe())\n",
        "\n",
        "# Mode for each column\n",
        "print(\"\\nMode for each column:\")\n",
        "print(data.mode())\n",
        "\n",
        "# Standard Deviation for each feature\n",
        "print(\"\\nStandard Deviation for each feature:\")\n",
        "print(data.std())\n",
        "\n",
        "# Correlation matrix\n",
        "print(\"\\nCorrelation Matrix:\")\n",
        "print(data.corr())\n",
        "\n",
        "# Visualizations\n",
        "# Histogram for each feature\n",
        "data.drop('species', axis=1).hist(bins=20, figsize=(10, 8))\n",
        "plt.suptitle(\"Histograms of Features\")\n",
        "plt.show()\n",
        "\n",
        "# Boxplot for each feature\n",
        "plt.figure(figsize=(10, 8))\n",
        "sns.boxplot(data=data.drop('species', axis=1))\n",
        "plt.title(\"Boxplots of Features\")\n",
        "plt.show()\n",
        "\n",
        "# Correlation Heatmap\n",
        "plt.figure(figsize=(8, 6))\n",
        "sns.heatmap(data.corr(), annot=True, cmap='coolwarm', fmt='.2f')\n",
        "plt.title(\"Correlation Heatmap\")\n",
        "plt.show()\n"
      ],
      "metadata": {
        "id": "TrBJtRYBBDf1"
      },
      "execution_count": null,
      "outputs": []
    }
  ]
}